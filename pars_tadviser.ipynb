{
 "cells": [
  {
   "cell_type": "code",
   "execution_count": 1,
   "id": "621a9a6c",
   "metadata": {},
   "outputs": [
    {
     "name": "stderr",
     "output_type": "stream",
     "text": [
      "C:\\Users\\oksik\\anaconda3\\Lib\\site-packages\\pandas\\core\\arrays\\masked.py:60: UserWarning: Pandas requires version '1.3.6' or newer of 'bottleneck' (version '1.3.5' currently installed).\n",
      "  from pandas.core import (\n"
     ]
    }
   ],
   "source": [
    "import requests\n",
    "import pandas as pd\n",
    "from bs4 import BeautifulSoup\n",
    "import time\n",
    "from datetime import date, timedelta, datetime\n",
    "from fake_useragent import UserAgent\n",
    "from requests import ReadTimeout, ConnectTimeout, HTTPError, Timeout, ConnectionError, RequestException"
   ]
  },
  {
   "cell_type": "code",
   "execution_count": null,
   "id": "e665fc39",
   "metadata": {},
   "outputs": [],
   "source": [
    "def get_links(url, headers):\n",
    "    try:\n",
    "        time.sleep(1)\n",
    "        page=requests.get(url, headers=headers)\n",
    "        soup = BeautifulSoup(page.text, \"html.parser\")\n",
    "        soup2 = soup.find_all('li')\n",
    "        links = ['https://www.tadviser.ru'+ s.find('a')['href'] for s in soup2]\n",
    "        titles = [s.find('a').text for s in soup2]\n",
    "        return pd.DataFrame({'link': links,'title': titles})\n",
    "    except requests.ConnectionError as e:\n",
    "        print(e)\n",
    "        log_error(e)\n",
    "    except requests.Timeout as e:\n",
    "        print(e)\n",
    "        log_error(e)\n",
    "    except requests.RequestException as e:\n",
    "        print(e)\n",
    "        log_error(e)\n",
    "    except requests.ConnectTimeout as e:\n",
    "        print(e)\n",
    "        log_error(e)\n",
    "    except requests.ReadTimeout as e:\n",
    "        print(e)\n",
    "        log_error(e)\n",
    "    except requests.HTTPError as e:\n",
    "        print(e)\n",
    "        log_error(e) \n",
    "\n",
    "def get_text(url, headers):\n",
    "    try:\n",
    "        time.sleep(1)\n",
    "        articles = requests.get(url, headers=headers)\n",
    "        articles_soup = BeautifulSoup(articles.text, \"html.parser\")\n",
    "        articles_content = articles_soup.find_all('p')[2:]\n",
    "        articles_text = [paragraph.get_text() for paragraph in articles_content]\n",
    "        return ' '.join(articles_text)\n",
    "    except requests.ConnectionError as e:\n",
    "        print(e)\n",
    "        log_error(e)\n",
    "    except requests.Timeout as e:\n",
    "        print(e)\n",
    "        log_error(e)\n",
    "    except requests.RequestException as e:\n",
    "        print(e)\n",
    "        log_error(e)\n",
    "    except requests.ConnectTimeout as e:\n",
    "        print(e)\n",
    "        log_error(e)\n",
    "    except requests.ReadTimeout as e:\n",
    "        print(e)\n",
    "        log_error(e)\n",
    "    except requests.HTTPError as e:\n",
    "        print(e)\n",
    "        log_error(e)\n",
    "    \n",
    "def log_error(error):\n",
    "    pass\n",
    "\n",
    "ua = UserAgent()\n",
    "headers = {'accept': '*/*', 'user-agent': ua.random}\n",
    "today = date.today()\n",
    "art_date = today.strftime(\"%d.%m.%Y\")\n",
    "df_tadviser = pd.DataFrame({'link': [], 'title': [], 'text': [], 'date': []})\n",
    "\n",
    "while art_date != '01.01.2021':\n",
    "    if art_date[3] == '0':\n",
    "        art_date = art_date[:3]+art_date[4:]\n",
    "    if art_date[0] == '0':\n",
    "        art_date = art_date[1:]   \n",
    "    url = 'https://www.tadviser.ru/index.php/Архив_новостей?cdate='+ art_date\n",
    "    df = get_links(url, headers)\n",
    "    content = [get_text(url, headers) for url in df['link'].tolist()]\n",
    "    df['text'] = content\n",
    "    df['date'] = pd.to_datetime(today).strftime('%d.%m.%Y')\n",
    "    df_tadviser = pd.concat([df_tadviser, df], axis=0)\n",
    "    print(art_date)\n",
    "    today -= timedelta(days=1)\n",
    "    art_date = today.strftime(\"%d.%m.%Y\")"
   ]
  },
  {
   "cell_type": "code",
   "execution_count": 69,
   "id": "e6ee290a",
   "metadata": {},
   "outputs": [],
   "source": [
    "df_tadviser = df_tadviser.replace(r'\\t|\\n|\\r|\\s+',' ', regex=True)\n",
    "for col in df_tadviser.select_dtypes('object'):\n",
    "    df_tadviser[col] = df_tadviser[col].str.strip()\n",
    "df_tadviser = df_tadviser[df_tadviser['text'].astype(bool)]\n",
    "df_tadviser['source']='Tadviser'\n",
    "df_tadviser"
   ]
  },
  {
   "cell_type": "code",
   "execution_count": 76,
   "id": "64250eb5",
   "metadata": {},
   "outputs": [],
   "source": [
    "df_tadviser.to_csv(f'C:\\\\Users\\\\oksik\\\\Desktop\\\\Tadviser_done.csv', index=False, sep='\\t', \n",
    "             encoding='utf-8', header=True)"
   ]
  }
 ],
 "metadata": {
  "kernelspec": {
   "display_name": "Python 3 (ipykernel)",
   "language": "python",
   "name": "python3"
  },
  "language_info": {
   "codemirror_mode": {
    "name": "ipython",
    "version": 3
   },
   "file_extension": ".py",
   "mimetype": "text/x-python",
   "name": "python",
   "nbconvert_exporter": "python",
   "pygments_lexer": "ipython3",
   "version": "3.11.5"
  }
 },
 "nbformat": 4,
 "nbformat_minor": 5
}
